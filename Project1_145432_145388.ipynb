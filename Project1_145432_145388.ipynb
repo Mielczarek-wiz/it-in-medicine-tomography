{
 "cells": [
  {
   "cell_type": "markdown",
   "id": "e6bfb355",
   "metadata": {},
   "source": [
    "Potrzebne importy"
   ]
  },
  {
   "cell_type": "code",
   "execution_count": 1,
   "id": "de337f0d",
   "metadata": {},
   "outputs": [],
   "source": [
    "import numpy as np\n",
    "import skimage as ski\n",
    "import math as m\n",
    "import pydicom._storage_sopclass_uids\n",
    "import datetime, time\n",
    "import ipywidgets as widgets\n",
    "import warnings\n",
    "from skimage import io\n",
    "from skimage.filters.edges import convolve\n",
    "from skimage.color import rgb2gray\n",
    "from skimage.util import img_as_ubyte\n",
    "from skimage.exposure import rescale_intensity\n",
    "from matplotlib import pyplot as plt\n",
    "from pydicom.dataset import Dataset, FileDataset\n",
    "from pydicom.uid import ExplicitVRLittleEndian\n",
    "from pydicom import dcmread\n",
    "from IPython.display import clear_output\n",
    "from ipywidgets import interact, Layout\n",
    "\n",
    "warnings.simplefilter(action='ignore', category=FutureWarning)"
   ]
  },
  {
   "cell_type": "markdown",
   "id": "489ba8ba",
   "metadata": {},
   "source": [
    "Klasa zawierająca wszystkie parametry:"
   ]
  },
  {
   "cell_type": "code",
   "execution_count": 2,
   "id": "00bc1919",
   "metadata": {},
   "outputs": [],
   "source": [
    "class Parameters:\n",
    "    def __init__(self, filename, steps, detectors, alfa, l, reduce_radius, use_filtr, animated):\n",
    "        try:\n",
    "            self.img = io.imread(filename, as_gray=True)\n",
    "        except (ValueError, FileNotFoundError):\n",
    "            self.img = None\n",
    "            print(\"Nie ma takiego pliku\")\n",
    "        self.steps = steps\n",
    "        self.detectors = detectors\n",
    "        self.alfa = alfa\n",
    "        self.l = l\n",
    "        self.reduce_radius = reduce_radius\n",
    "        self.use_filtr = use_filtr\n",
    "        self.animated = animated"
   ]
  },
  {
   "cell_type": "markdown",
   "id": "7e4038d6",
   "metadata": {},
   "source": [
    "Transformata Radona- Sinogram:"
   ]
  },
  {
   "cell_type": "code",
   "execution_count": 3,
   "id": "bafa4eb5",
   "metadata": {},
   "outputs": [],
   "source": [
    "def sinogram(img, imgShape, steps, l, detectors, alfa, reduce_radius, use_filtr, animated, inverse=False, result_animation=[]): \n",
    "    deltaAlfa = m.radians(alfa / steps)\n",
    "    width, height = imgShape\n",
    "    center_x=(int)(width / 2)\n",
    "    center_y= (int)(height / 2)\n",
    "    if width==height:\n",
    "        radius_x = radius_y =  center_x - reduce_radius\n",
    "    else:\n",
    "        radius_x = center_x - reduce_radius\n",
    "        radius_y = center_y - reduce_radius\n",
    "    angle = 0\n",
    "    \n",
    "    if inverse==False:\n",
    "        sinog= np.zeros((steps,detectors))\n",
    "    else:\n",
    "        sinog = np.zeros((width,height))\n",
    "        result_animation = []\n",
    "        \n",
    "    \n",
    "    #przesunięcie emitera i detektorów (model stożkowy)\n",
    "    for i in range(steps):\n",
    "        #przesunięcie emitera\n",
    "        x = center_x + int(radius_x * np.cos(angle))\n",
    "        y = center_y + int(radius_y * np.sin(angle))\n",
    "        #wyliczenie \"polożenia kątowego\" pierwszego detektora\n",
    "        tmpDetectorAngle = m.radians(180 - l/2) + angle\n",
    "        detectorStep = m.radians(l / (detectors - 1))\n",
    "        for j in range(detectors):\n",
    "            #przesunięcie detektorów\n",
    "            xDet = center_x + int(radius_x * np.cos(tmpDetectorAngle))\n",
    "            yDet = center_y + int(radius_y * np.sin(tmpDetectorAngle))\n",
    "            tmpDetectorAngle += detectorStep\n",
    "            #wykorzystanie algorytmu Brenshema\n",
    "            if(inverse==False):\n",
    "                sinog[i][j]=BresenhamAlgorithm(img, x, y, xDet, yDet, inverse)\n",
    "            else:\n",
    "                sinog = BresenhamAlgorithm(sinog, x, y, xDet, yDet, inverse, img[i][j])\n",
    "                \n",
    "        \n",
    "        if(animated==True):\n",
    "            if (inverse==False):\n",
    "                pass\n",
    "            else:\n",
    "                result_animation.append(sinog.copy())\n",
    "        #przesunięcie kątowe dla następnego kroku\n",
    "        angle += deltaAlfa\n",
    "    if(inverse==False):\n",
    "        if use_filtr==True:\n",
    "            #filtracja sinogramu\n",
    "            sinog=filtredSinogram(sinog)\n",
    "    else:\n",
    "        #normalizacja oraz poprawa wyniku po odwrotnej transformacie Radona\n",
    "        sinog= normalize(sinog**2)**0.5\n",
    "        result_animation.append(sinog.copy())\n",
    "\n",
    "    return sinog, result_animation"
   ]
  },
  {
   "cell_type": "markdown",
   "id": "8895973f",
   "metadata": {},
   "source": [
    "Funkcja normalizacji:"
   ]
  },
  {
   "cell_type": "code",
   "execution_count": 4,
   "id": "01d0756f",
   "metadata": {},
   "outputs": [],
   "source": [
    "def normalize(sinog):\n",
    "    maksimum = np.max(sinog)\n",
    "    minimum = np.min(sinog)\n",
    "    if (maksimum-minimum)!=0:\n",
    "        sinog = (sinog-minimum)/(maksimum-minimum)\n",
    "    return sinog"
   ]
  },
  {
   "cell_type": "markdown",
   "id": "f6a96d57",
   "metadata": {},
   "source": [
    "Funkcja do filtracji sinogramu:"
   ]
  },
  {
   "cell_type": "code",
   "execution_count": 5,
   "id": "423dc4ba",
   "metadata": {},
   "outputs": [],
   "source": [
    "def filtredSinogram(sinog, kernelSize=21):\n",
    "    mask=[]\n",
    "    for i in range((int)(kernelSize/2)+1):\n",
    "        if(i==0):\n",
    "            mask.append(1.0) \n",
    "        elif(i%2==0):\n",
    "            mask.append(0.0)\n",
    "        else:\n",
    "            mask.append((-4)/np.pi**2/i**2)\n",
    "    mask=mask[::-1]+mask[1:]\n",
    "    for i in range(len(sinog)):\n",
    "        sinog[i,:]=np.convolve(sinog[i,:],mask, mode='same')\n",
    "    return sinog"
   ]
  },
  {
   "cell_type": "markdown",
   "id": "84f7916d",
   "metadata": {},
   "source": [
    "Algorytm Bresenhama- liniowe przejście po kolejnych pikselach obrazu dyskretnego ~ https://en.wikipedia.org/wiki/Bresenham's_line_algorithm"
   ]
  },
  {
   "cell_type": "code",
   "execution_count": 6,
   "id": "ad875172",
   "metadata": {},
   "outputs": [],
   "source": [
    "def BresenhamAlgorithm(img, x, y, x2, y2, inverse, brightness=0):\n",
    "    suma = 0 #suma kolorów na jednym pikselu\n",
    "    \n",
    "    dx=abs(x-x2) #różnica w poziomie (emiter-detektor)\n",
    "    dy=abs(y-y2) #różnica w pionie (emiter-detektor)\n",
    "    \n",
    "    #zmiana pozycji (pion/poziom)\n",
    "    sx=1 if x < x2 else -1\n",
    "    sy=1 if y < y2 else -1\n",
    "    \n",
    "    #wyznaczenie średniej wartości pixela (patrz algorytm Brenshema)\n",
    "    if dx > dy:\n",
    "        return plotLineLow(img, suma,dx,dy,x,y,sx,sy,x2, inverse, brightness)\n",
    "    else:\n",
    "        return plotLineHigh(img, suma,dx,dy,x,y,sx,sy,y2, inverse, brightness)"
   ]
  },
  {
   "cell_type": "markdown",
   "id": "fb337833",
   "metadata": {},
   "source": [
    "Przejście po ujemnym \"stromym zboczu\" ~ https://en.wikipedia.org/wiki/Bresenham's_line_algorithm"
   ]
  },
  {
   "cell_type": "code",
   "execution_count": 7,
   "id": "45c9b258",
   "metadata": {},
   "outputs": [],
   "source": [
    "def plotLineLow(img, suma,dx,dy,x,y,sx,sy,x2, inverse, brightness):\n",
    "    #usprawnienie obliczeń\n",
    "    a = (dy - dx) * 2 \n",
    "    b = dy * 2\n",
    "    D = b - dx\n",
    "    #licznik iteracji\n",
    "    it=0\n",
    "    while x != x2:\n",
    "        \n",
    "        \n",
    "        if(inverse==False):\n",
    "            #pobranie koloru\n",
    "            suma += img[x][y]\n",
    "            it+=1\n",
    "        else:\n",
    "            #wzmocnienie obrazu przy użyciu sinogramu\n",
    "            img[x][y] += brightness\n",
    "        \n",
    "        if D >= 0:\n",
    "            x += sx\n",
    "            y += sy\n",
    "            D += a\n",
    "        else:\n",
    "            D += b\n",
    "            x += sx\n",
    "        \n",
    "    if(inverse==False):\n",
    "        return suma/it\n",
    "    else:\n",
    "        return img"
   ]
  },
  {
   "cell_type": "markdown",
   "id": "91e606ea",
   "metadata": {},
   "source": [
    "Przejście po dodatnim \"stromym zboczu\" ~ https://en.wikipedia.org/wiki/Bresenham's_line_algorithm"
   ]
  },
  {
   "cell_type": "code",
   "execution_count": 8,
   "id": "5bf30b1a",
   "metadata": {},
   "outputs": [],
   "source": [
    "def plotLineHigh(img, suma,dx,dy,x,y,sx,sy,y2, inverse, brightness):\n",
    "    #usprawnienie obliczeń\n",
    "    a = (dx - dy) * 2\n",
    "    b = dx * 2\n",
    "    D = b - dy\n",
    "    #licznik iteracji\n",
    "    it=0\n",
    "    \n",
    "    while y != y2:\n",
    "        if(inverse==False):\n",
    "            #pobranie koloru \n",
    "            suma += img[x][y]\n",
    "            it+=1\n",
    "        else:\n",
    "            #wzmocnienie obrazu przy użyciu sinogramu\n",
    "            img[x][y] += brightness\n",
    "\n",
    "        if D >= 0:\n",
    "            x += sx\n",
    "            y += sy\n",
    "            D += a\n",
    "        else:\n",
    "            D += b\n",
    "            y += sy  \n",
    "        \n",
    "    if(inverse==False):\n",
    "        return suma/it\n",
    "    else:\n",
    "        return img"
   ]
  },
  {
   "cell_type": "markdown",
   "id": "da237eb7",
   "metadata": {},
   "source": [
    "Zapisywanie do formatu DICOM:"
   ]
  },
  {
   "cell_type": "code",
   "execution_count": 9,
   "id": "bb92bdfa",
   "metadata": {},
   "outputs": [],
   "source": [
    "def save_as_dicom(file_name, img, patient_data):\n",
    "    img_converted = img_as_ubyte(rescale_intensity(img, out_range=(0.0, 1.0)))\n",
    "    \n",
    "    # Populate required values for file meta information\n",
    "    meta = Dataset()\n",
    "    meta.MediaStorageSOPClassUID = pydicom._storage_sopclass_uids.CTImageStorage\n",
    "    meta.MediaStorageSOPInstanceUID = pydicom.uid.generate_uid()\n",
    "    meta.TransferSyntaxUID = pydicom.uid.ExplicitVRLittleEndian  \n",
    "\n",
    "    ds = FileDataset(file_name, {}, preamble=b\"\\0\" * 128)\n",
    "    ds.file_meta = meta\n",
    "\n",
    "    ds.is_little_endian = True\n",
    "    ds.is_implicit_VR = False\n",
    "\n",
    "    ds.SOPClassUID = pydicom._storage_sopclass_uids.CTImageStorage\n",
    "    ds.SOPInstanceUID = meta.MediaStorageSOPInstanceUID\n",
    "    \n",
    "    ds.PatientName = patient_data[\"PatientName\"]\n",
    "    ds.PatientID = patient_data[\"PatientID\"]\n",
    "    ds.ImageComments = patient_data[\"ImageComments\"]\n",
    "    ds.ContentDate = str(datetime.date.today()).replace('-','')\n",
    "    ds.ContentTime = str(time.time())\n",
    "\n",
    "    ds.Modality = \"CT\"\n",
    "    ds.SeriesInstanceUID = pydicom.uid.generate_uid()\n",
    "    ds.StudyInstanceUID = pydicom.uid.generate_uid()\n",
    "    ds.FrameOfReferenceUID = pydicom.uid.generate_uid()\n",
    "\n",
    "    ds.BitsStored = 8\n",
    "    ds.BitsAllocated = 8\n",
    "    ds.SamplesPerPixel = 1\n",
    "    ds.HighBit = 7\n",
    "\n",
    "    ds.ImagesInAcquisition = 1\n",
    "    ds.InstanceNumber = 1\n",
    "\n",
    "    ds.Rows, ds.Columns = img_converted.shape\n",
    "\n",
    "    ds.ImageType = r\"ORIGINAL\\PRIMARY\\AXIAL\"\n",
    "\n",
    "    ds.PhotometricInterpretation = \"MONOCHROME2\"\n",
    "    ds.PixelRepresentation = 0\n",
    "\n",
    "    pydicom.dataset.validate_file_meta(ds.file_meta, enforce_standard=True)\n",
    "\n",
    "    ds.PixelData = img_converted.tobytes()\n",
    "\n",
    "    ds.save_as(file_name, write_like_original=False)"
   ]
  },
  {
   "cell_type": "markdown",
   "id": "840593e3",
   "metadata": {},
   "source": [
    "Wczytywanie obrazu DICOM"
   ]
  },
  {
   "cell_type": "code",
   "execution_count": 10,
   "id": "97dc7d20",
   "metadata": {},
   "outputs": [],
   "source": [
    "def read_dicom(file_name):\n",
    "    ds = dcmread(file_name, force=True)\n",
    "    print(ds)\n",
    "    io.imshow(file_name)"
   ]
  },
  {
   "cell_type": "markdown",
   "id": "b9ea06bf",
   "metadata": {},
   "source": [
    "Obliczenie błędu średniokwadratowego:"
   ]
  },
  {
   "cell_type": "code",
   "execution_count": 11,
   "id": "c0e52d34",
   "metadata": {},
   "outputs": [],
   "source": [
    "def RootMeanSquaredError(img, img2):\n",
    "    err = np.sum((normalize(img) - img2) ** 2)\n",
    "    err /= (img.shape[0] * img.shape[1])\n",
    "    return m.sqrt(err)"
   ]
  },
  {
   "cell_type": "markdown",
   "id": "2d4f5c68",
   "metadata": {},
   "source": [
    "Funkcja uruchamiająca program:"
   ]
  },
  {
   "cell_type": "code",
   "execution_count": 15,
   "id": "c87b1efb",
   "metadata": {},
   "outputs": [],
   "source": [
    "def runProgram(Init):\n",
    "    result_animation = []\n",
    "    sinog = []\n",
    "    fillingMatrix = np.zeros((Init.steps, Init.detectors)) #wypełnienie sinog'a\n",
    "    def draw_step_of_sinogram(step_number):\n",
    "        plt.figure()\n",
    "        io.imshow(rgb2gray(np.row_stack((sinog[:(step_number-1)], fillingMatrix[(step_number-1):]))), cmap=plt.cm.gray)\n",
    "    def draw_step_of_result(step_number):\n",
    "        plt.figure()\n",
    "        io.imshow(rgb2gray(result_animation[step_number-1]), cmap=plt.cm.gray)\n",
    "    io.imshow(Init.img)\n",
    "    plt.show()\n",
    "    sinog, _ = sinogram(Init.img, Init.img.shape, Init.steps, Init.l, Init.detectors, Init.alfa, Init.reduce_radius, Init.use_filtr, Init.animated, False)\n",
    "    \n",
    "    sinogInv, result_animation = sinogram(sinog, Init.img.shape, Init.steps, Init.l, Init.detectors, Init.alfa, Init.reduce_radius, Init.use_filtr, Init.animated, True, result_animation)\n",
    "    \n",
    "    if(Init.animated == True):\n",
    "        interact(draw_step_of_sinogram, step_number=widgets.IntSlider(min=1, max=Init.steps, step=1, value=1))\n",
    "        interact(draw_step_of_result, step_number=widgets.IntSlider(min=1, max=len(result_animation), step=1, value=1))\n",
    "    else:\n",
    "        plt.figure()\n",
    "        io.imshow(rgb2gray(sinog), cmap=plt.cm.gray)\n",
    "        plt.figure()\n",
    "        io.imshow(rgb2gray(result_animation[-1]), cmap=plt.cm.gray)\n",
    "    print(\"Root mean squared error: \" + str(RootMeanSquaredError(Init.img, sinogInv)))\n",
    "    return sinogInv"
   ]
  },
  {
   "cell_type": "code",
   "execution_count": 13,
   "id": "da915608",
   "metadata": {
    "scrolled": false
   },
   "outputs": [
    {
     "data": {
      "application/vnd.jupyter.widget-view+json": {
       "model_id": "957cd6af261d4cdda9adc163d5a069db",
       "version_major": 2,
       "version_minor": 0
      },
      "text/plain": [
       "Text(value='Shepp_logan.jpg', description='File name:', style=DescriptionStyle(description_width='100px'))"
      ]
     },
     "metadata": {},
     "output_type": "display_data"
    },
    {
     "data": {
      "application/vnd.jupyter.widget-view+json": {
       "model_id": "541713989d7940d8af1eb3af9820462d",
       "version_major": 2,
       "version_minor": 0
      },
      "text/plain": [
       "BoundedIntText(value=360, description='Alfa:', max=360, min=1, style=DescriptionStyle(description_width='100px…"
      ]
     },
     "metadata": {},
     "output_type": "display_data"
    },
    {
     "data": {
      "application/vnd.jupyter.widget-view+json": {
       "model_id": "b6550f146488482d9537df8815ea5e7a",
       "version_major": 2,
       "version_minor": 0
      },
      "text/plain": [
       "BoundedIntText(value=180, description='l:', max=360, min=1, style=DescriptionStyle(description_width='100px'))"
      ]
     },
     "metadata": {},
     "output_type": "display_data"
    },
    {
     "data": {
      "application/vnd.jupyter.widget-view+json": {
       "model_id": "7f9db74a133349e08c330c5d7f0acad6",
       "version_major": 2,
       "version_minor": 0
      },
      "text/plain": [
       "BoundedIntText(value=3, description='Reduce Radius:', max=10, min=1, style=DescriptionStyle(description_width=…"
      ]
     },
     "metadata": {},
     "output_type": "display_data"
    },
    {
     "data": {
      "application/vnd.jupyter.widget-view+json": {
       "model_id": "c1c698f4a22043ec9eba73242ae0399c",
       "version_major": 2,
       "version_minor": 0
      },
      "text/plain": [
       "BoundedIntText(value=100, description='Steps:', max=1000, min=1, style=DescriptionStyle(description_width='100…"
      ]
     },
     "metadata": {},
     "output_type": "display_data"
    },
    {
     "data": {
      "application/vnd.jupyter.widget-view+json": {
       "model_id": "b6587601978e412f985b77e7e3212a30",
       "version_major": 2,
       "version_minor": 0
      },
      "text/plain": [
       "BoundedIntText(value=180, description='Detectors:', max=1000, min=21, style=DescriptionStyle(description_width…"
      ]
     },
     "metadata": {},
     "output_type": "display_data"
    },
    {
     "data": {
      "application/vnd.jupyter.widget-view+json": {
       "model_id": "12545686674745db87351ba703e249d2",
       "version_major": 2,
       "version_minor": 0
      },
      "text/plain": [
       "Checkbox(value=True, description='Use filter:', style=DescriptionStyle(description_width='100px'))"
      ]
     },
     "metadata": {},
     "output_type": "display_data"
    },
    {
     "data": {
      "application/vnd.jupyter.widget-view+json": {
       "model_id": "be1eddf5ac6f48e2aee522b663a2c44c",
       "version_major": 2,
       "version_minor": 0
      },
      "text/plain": [
       "Checkbox(value=True, description='Animated:', style=DescriptionStyle(description_width='100px'))"
      ]
     },
     "metadata": {},
     "output_type": "display_data"
    },
    {
     "data": {
      "application/vnd.jupyter.widget-view+json": {
       "model_id": "0df1588d95e540aba0664320b9b2cca7",
       "version_major": 2,
       "version_minor": 0
      },
      "text/plain": [
       "Button(description='Uruchom Program', layout=Layout(width='200px'), style=ButtonStyle())"
      ]
     },
     "metadata": {},
     "output_type": "display_data"
    },
    {
     "data": {
      "application/vnd.jupyter.widget-view+json": {
       "model_id": "0e0741c942bd4a8aa78d603ed9c8a6b6",
       "version_major": 2,
       "version_minor": 0
      },
      "text/plain": [
       "Text(value='test.dcm', description='Dicom load file:', style=DescriptionStyle(description_width='100px'))"
      ]
     },
     "metadata": {},
     "output_type": "display_data"
    },
    {
     "data": {
      "application/vnd.jupyter.widget-view+json": {
       "model_id": "cf43416c67164688974a1f4a9124f0a9",
       "version_major": 2,
       "version_minor": 0
      },
      "text/plain": [
       "Button(description='Wczytaj plik DICOM', layout=Layout(width='200px'), style=ButtonStyle())"
      ]
     },
     "metadata": {},
     "output_type": "display_data"
    },
    {
     "data": {
      "image/png": "[encoded data removed]",
      "text/plain": [
       "<Figure size 432x288 with 1 Axes>"
      ]
     },
     "metadata": {
      "needs_background": "light"
     },
     "output_type": "display_data"
    },
    {
     "data": {
      "application/vnd.jupyter.widget-view+json": {
       "model_id": "166a4cd0c5134aaca8680faa32d4cb3c",
       "version_major": 2,
       "version_minor": 0
      },
      "text/plain": [
       "interactive(children=(IntSlider(value=1, description='step_number', min=1), Output()), _dom_classes=('widget-i…"
      ]
     },
     "metadata": {},
     "output_type": "display_data"
    },
    {
     "data": {
      "application/vnd.jupyter.widget-view+json": {
       "model_id": "bc897aa52c2f4d4ba75dd70f262c0d85",
       "version_major": 2,
       "version_minor": 0
      },
      "text/plain": [
       "interactive(children=(IntSlider(value=1, description='step_number', max=101, min=1), Output()), _dom_classes=(…"
      ]
     },
     "metadata": {},
     "output_type": "display_data"
    },
    {
     "name": "stdout",
     "output_type": "stream",
     "text": [
      "Root mean squared error: 0.20797310866513333\n"
     ]
    },
    {
     "data": {
      "application/vnd.jupyter.widget-view+json": {
       "model_id": "f747d7c5207b452c82a51a7acfa6727e",
       "version_major": 2,
       "version_minor": 0
      },
      "text/plain": [
       "Text(value='test.dcm', description='Dicom save file:', style=DescriptionStyle(description_width='100px'))"
      ]
     },
     "metadata": {},
     "output_type": "display_data"
    },
    {
     "data": {
      "application/vnd.jupyter.widget-view+json": {
       "model_id": "59b76e6a2c47469ea2d53b0b0b3947d9",
       "version_major": 2,
       "version_minor": 0
      },
      "text/plain": [
       "Text(value='name', description='Patient name:', style=DescriptionStyle(description_width='100px'))"
      ]
     },
     "metadata": {},
     "output_type": "display_data"
    },
    {
     "data": {
      "application/vnd.jupyter.widget-view+json": {
       "model_id": "822b094cb4bc4906967ca83ede07d3d3",
       "version_major": 2,
       "version_minor": 0
      },
      "text/plain": [
       "Text(value='id', description='Patient id:', style=DescriptionStyle(description_width='100px'))"
      ]
     },
     "metadata": {},
     "output_type": "display_data"
    },
    {
     "data": {
      "application/vnd.jupyter.widget-view+json": {
       "model_id": "53355ec9009e4cdf90b6a6be807b2117",
       "version_major": 2,
       "version_minor": 0
      },
      "text/plain": [
       "Text(value='comment', description='Image comments:', style=DescriptionStyle(description_width='150px'))"
      ]
     },
     "metadata": {},
     "output_type": "display_data"
    },
    {
     "data": {
      "application/vnd.jupyter.widget-view+json": {
       "model_id": "0daa8eba332d425382d33a53fba675cc",
       "version_major": 2,
       "version_minor": 0
      },
      "text/plain": [
       "Button(description='Zapisz plik DICOM', layout=Layout(width='200px'), style=ButtonStyle())"
      ]
     },
     "metadata": {},
     "output_type": "display_data"
    }
   ],
   "source": [
    "buttonLayout=Layout(width='200px')\n",
    "editStyle = {'description_width': '100px'}\n",
    "\n",
    "#deklaracja elementów interfejsu graficznego\n",
    "editFilename = widgets.Text(value='kwadraty2.jpg', description='File name:', style=editStyle)\n",
    "editAlfa = widgets.BoundedIntText(value=360, min=1, max=360, step=1, description=\"Alfa:\", style=editStyle)\n",
    "editL = widgets.BoundedIntText(value=180, min=1, max=360, step=1, description=\"l:\", style=editStyle)\n",
    "editReduceRadius = widgets.BoundedIntText(value=3, min=1, max=10, step=1, description=\"Reduce Radius:\", style=editStyle)\n",
    "editSteps = widgets.BoundedIntText(value=50, min=1, max=1000, step=1, description=\"Steps:\", style=editStyle)\n",
    "editDetectors = widgets.BoundedIntText(value=180, min=21, max=1000, step=1, description=\"Detectors:\", style=editStyle)\n",
    "editUseFiltr = widgets.Checkbox(value=True, description='Use filter:', style=editStyle)\n",
    "editAnimated = widgets.Checkbox(value=True, description='Animated:', style=editStyle)\n",
    "\n",
    "buttonStartProgram = widgets.Button(description='Uruchom Program', layout=buttonLayout)\n",
    "editFilenameSaveDicom = widgets.Text(value='test.dcm', description='Dicom save file:', style=editStyle)\n",
    "buttonSaveDicom = widgets.Button(description='Zapisz plik DICOM', layout=buttonLayout)\n",
    "\n",
    "editPatientName = widgets.Text(value='name', description='Patient name:', style=editStyle)\n",
    "editPatientID = widgets.Text(value='id', description='Patient id:', style=editStyle)\n",
    "editImageComments = widgets.Text(value='comment', description='Image comments:', style={'description_width': '150px'})\n",
    "\n",
    "editFilenameLoadDicom = widgets.Text(value='test.dcm', description='Dicom load file:', style=editStyle)\n",
    "buttonLoadDicom = widgets.Button(description='Wczytaj plik DICOM', layout=buttonLayout)\n",
    "\n",
    "\n",
    "\n",
    "def resetGUI(saveAvilable):\n",
    "    clear_output(wait=True)\n",
    "    display(editFilename)\n",
    "    display(editAlfa)\n",
    "    display(editL)\n",
    "    display(editReduceRadius)\n",
    "    display(editSteps)\n",
    "    display(editDetectors)\n",
    "    display(editUseFiltr)\n",
    "    display(editAnimated)\n",
    "    display(buttonStartProgram)\n",
    "    display(editFilenameLoadDicom)\n",
    "    display(buttonLoadDicom)\n",
    "\n",
    "def on_start_button_clicked(buttonStartProgram):\n",
    "    resetGUI(True)\n",
    "    Init = Parameters(editFilename.value, editSteps.value, editDetectors.value, editAlfa.value, editL.value, editReduceRadius.value,\n",
    "                        editUseFiltr.value, editAnimated.value)\n",
    "    if(len(Init.img) > 0):\n",
    "        sinogInv = runProgram(Init)\n",
    "        def on_save_dicom_button_clicked(buttonSaveDicom):\n",
    "            patient_data={'PatientName': editPatientName.value, 'PatientID': editPatientID.value, 'ImageComments': editImageComments.value}\n",
    "            save_as_dicom(editFilenameSaveDicom.value, sinogInv, patient_data)\n",
    "            print(\"Zapisano plik DICOM!\")\n",
    "        display(editFilenameSaveDicom)\n",
    "        display(editPatientName)\n",
    "        display(editPatientID)\n",
    "        display(editImageComments)\n",
    "        display(buttonSaveDicom)\n",
    "        buttonSaveDicom.on_click(on_save_dicom_button_clicked)\n",
    "\n",
    "def on_load_dicom_button_clicked(buttonLoadDicom):\n",
    "    resetGUI(False)\n",
    "    if(len(editFilenameLoadDicom.value) > 0):\n",
    "        try:\n",
    "            dicomLoaded = read_dicom(editFilenameLoadDicom.value)\n",
    "        except FileNotFoundError:\n",
    "            print(\"Nie ma takiego pliku!\")\n",
    "    else:\n",
    "        print(\"Podaj nazwę pliku!\")\n",
    "\n",
    "buttonStartProgram.on_click(on_start_button_clicked)\n",
    "buttonLoadDicom.on_click(on_load_dicom_button_clicked)\n",
    "resetGUI(False)"
   ]
  }
 ],
 "metadata": {
  "kernelspec": {
   "display_name": "Python 3 (ipykernel)",
   "language": "python",
   "name": "python3"
  },
  "language_info": {
   "codemirror_mode": {
    "name": "ipython",
    "version": 3
   },
   "file_extension": ".py",
   "mimetype": "text/x-python",
   "name": "python",
   "nbconvert_exporter": "python",
   "pygments_lexer": "ipython3",
   "version": "3.8.12"
  }
 },
 "nbformat": 4,
 "nbformat_minor": 5
}
